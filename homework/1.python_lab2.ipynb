{
 "cells": [
  {
   "cell_type": "code",
   "execution_count": 5,
   "id": "10573b0d",
   "metadata": {},
   "outputs": [
    {
     "name": "stdout",
     "output_type": "stream",
     "text": [
      "please enter the radius of spherical:2\n",
      "radius= 2 \n",
      "volume= 33.49333333333333 \n",
      "surface area= 50.24\n"
     ]
    }
   ],
   "source": [
    "def spherical():\n",
    "    r=eval(input(\"please enter the radius of spherical:\"))\n",
    "    V = 4/3*3.14*(r**3)\n",
    "    A = 4*3.14*(r**2) \n",
    "    print(\"radius=\",r,\"\\nvolume=\",V,\"\\nsurface area=\",A)\n",
    "spherical()"
   ]
  },
  {
   "cell_type": "code",
   "execution_count": 7,
   "id": "376f3bc4",
   "metadata": {},
   "outputs": [
    {
     "name": "stdout",
     "output_type": "stream",
     "text": [
      "請輸入牆壁的高度（單位：米）：50\n",
      "請輸入梯子與地面的角度（單位：度）：20\n",
      "所需梯子長度為: 146.19 米\n"
     ]
    }
   ],
   "source": [
    "import math\n",
    "def calculate_ladder_length(height, angle):\n",
    "    # 將角度轉換為弧度\n",
    "    angle_radians = math.radians(angle)\n",
    "    \n",
    "    # 使用三角函數計算梯子長度\n",
    "    ladder_length = height / math.sin(angle_radians)\n",
    "    \n",
    "    return ladder_length\n",
    "\n",
    "# 使用者輸入牆壁高度和角度\n",
    "height = float(input(\"請輸入牆壁的高度（單位：米）：\"))\n",
    "angle = float(input(\"請輸入梯子與地面的角度（單位：度）：\"))\n",
    "\n",
    "# 計算梯子長度\n",
    "result_ladder_length = calculate_ladder_length(height, angle)\n",
    "\n",
    "# 顯示結果\n",
    "print(f\"所需梯子長度為: {result_ladder_length:.2f} 米\")\n"
   ]
  },
  {
   "cell_type": "code",
   "execution_count": 40,
   "id": "f874f22e",
   "metadata": {},
   "outputs": [
    {
     "name": "stdout",
     "output_type": "stream",
     "text": [
      "enter number for calculate:3\n"
     ]
    },
    {
     "data": {
      "text/plain": [
       "3.466666666666667"
      ]
     },
     "execution_count": 40,
     "metadata": {},
     "output_type": "execute_result"
    }
   ],
   "source": [
    "def cal():\n",
    "    n = int(input(\"enter number for calculate:\"))\n",
    "    x = 0\n",
    "    d = 1\n",
    "    sign = 1 # 用於交替加減的符號\n",
    "    for _ in range(n):\n",
    "        x += (4/(d))*sign\n",
    "        sign *= -1\n",
    "        d += 2\n",
    "    return x\n",
    "    print(x)\n",
    "cal()"
   ]
  },
  {
   "cell_type": "code",
   "execution_count": 43,
   "id": "473dcd36",
   "metadata": {},
   "outputs": [
    {
     "name": "stdout",
     "output_type": "stream",
     "text": [
      "the program computes the average of three exam scores.\n",
      "enter two scores seprated bo a comma:60,40,50\n",
      "the average is 50.0\n"
     ]
    }
   ],
   "source": [
    "def avg3():\n",
    "    print(\"the program computes the average of three exam scores.\")\n",
    "    score1,score2,score3=eval(input(\"enter two scores seprated bo a comma:\"))\n",
    "    average=(score1+score2+score3)/3\n",
    "    print(\"the average is\",average)\n",
    "avg3()"
   ]
  },
  {
   "cell_type": "code",
   "execution_count": 45,
   "id": "315b1692",
   "metadata": {},
   "outputs": [
    {
     "name": "stdout",
     "output_type": "stream",
     "text": [
      "What is the Celsius temperature?30\n",
      "The temperature is 86.0 degree Fahrenheit.\n",
      "What is the Celsius temperature?40\n",
      "The temperature is 104.0 degree Fahrenheit.\n",
      "What is the Celsius temperature?50\n",
      "The temperature is 122.0 degree Fahrenheit.\n",
      "What is the Celsius temperature?20\n",
      "The temperature is 68.0 degree Fahrenheit.\n",
      "What is the Celsius temperature?10\n",
      "The temperature is 50.0 degree Fahrenheit.\n"
     ]
    }
   ],
   "source": [
    "def convert5():\n",
    "    for i in range(5):\n",
    "        celsius=eval(input(\"What is the Celsius temperature?\"))\n",
    "        fahrenheit=9/5*celsius+32\n",
    "        print(\"The temperature is\", fahrenheit,\"degree Fahrenheit.\")\n",
    "convert()"
   ]
  },
  {
   "cell_type": "code",
   "execution_count": 47,
   "id": "a1ee796f",
   "metadata": {},
   "outputs": [
    {
     "name": "stdout",
     "output_type": "stream",
     "text": [
      "the program calculates the future value of a year investment.\n",
      "enter the initial principal:2000\n",
      "enter the annaul interest rate:0.5\n",
      "enter the limit of years10\n",
      "The value in 10 year is: 115330.078125\n"
     ]
    }
   ],
   "source": [
    "def futval2():\n",
    "    print(\"the program calculates the future value of a year investment.\")\n",
    "    principal=eval(input(\"enter the initial principal:\"))\n",
    "    apr=eval(input(\"enter the annaul interest rate:\"))\n",
    "    limit=eval(input(\"enter the limit of years\"))\n",
    "    for i in range(limit):\n",
    "        principal=principal*(1+apr)\n",
    "    print(\"The value in\",limit, \"year is:\",principal)\n",
    "futval2()"
   ]
  },
  {
   "cell_type": "code",
   "execution_count": 50,
   "id": "4f8f5bda",
   "metadata": {},
   "outputs": [
    {
     "name": "stdout",
     "output_type": "stream",
     "text": [
      "12\n"
     ]
    }
   ],
   "source": [
    "def GCD(n,m):\n",
    "    while (n%m) !=0:\n",
    "        n,m = m, (n%m)\n",
    "    print(m)\n",
    "GCD(80844,25320)"
   ]
  },
  {
   "cell_type": "code",
   "execution_count": 1,
   "id": "07f91024",
   "metadata": {},
   "outputs": [
    {
     "name": "stdout",
     "output_type": "stream",
     "text": [
      "請輸入數值計算表示式 (輸入 'exit' 退出): 3/3\n",
      "計算結果: 1.0\n",
      "請輸入數值計算表示式 (輸入 'exit' 退出): 3/0\n",
      "發生錯誤: division by zero\n"
     ]
    }
   ],
   "source": [
    "while True:\n",
    "    try:\n",
    "        expression = input(\"請輸入數值計算表示式 (輸入 'exit' 退出): \")\n",
    "        \n",
    "        # 檢查是否要退出\n",
    "        if expression.lower() == 'exit':\n",
    "            break\n",
    "\n",
    "        # 計算表示式\n",
    "        result = eval(expression)\n",
    "        \n",
    "        # 顯示結果\n",
    "        print(f\"計算結果: {result}\")\n",
    "        \n",
    "    except Exception as e:\n",
    "        print(f\"發生錯誤: {e}\")\n",
    "        break"
   ]
  },
  {
   "cell_type": "code",
   "execution_count": 25,
   "id": "80daf159",
   "metadata": {},
   "outputs": [
    {
     "name": "stdout",
     "output_type": "stream",
     "text": [
      "A\n",
      "D\n",
      "ERROR!\n",
      "ERROR!\n"
     ]
    }
   ],
   "source": [
    "def grade(score):\n",
    "    if 90 <= score <= 100:\n",
    "        return \"A\"\n",
    "    elif 80 <= score <= 89:\n",
    "        return \"B\"\n",
    "    elif 70 <= score <= 79:\n",
    "        return \"C\"\n",
    "    elif 60 <= score <= 69:\n",
    "        return \"D\"\n",
    "    elif 50 <= score <= 59:\n",
    "        return \"F\"\n",
    "    else:\n",
    "        return \"ERROR!\"\n",
    "print(grade(100))\n",
    "print(grade(68))\n",
    "print(grade(-3))\n",
    "print(grade(300))"
   ]
  },
  {
   "cell_type": "code",
   "execution_count": 51,
   "id": "e47a2679",
   "metadata": {},
   "outputs": [],
   "source": [
    "def gradefile():\n",
    "    infile=open(\"scorelist.txt\",\"r\")\n",
    "    outfile = open(\"gradelist.txt\",\"w\")\n",
    "    \n",
    "    for line in infile:\n",
    "        score = float(line.strip(\"\\n\"))\n",
    "        result = grade(score)\n",
    "        outfile.write(f\"{score} 的等級是: {result}\\n\")\n",
    "gradefile()"
   ]
  },
  {
   "cell_type": "code",
   "execution_count": 5,
   "id": "0aaeefc2",
   "metadata": {},
   "outputs": [
    {
     "name": "stdout",
     "output_type": "stream",
     "text": [
      "enter a date(mm/dd/yyyy):11/25/1976\n"
     ]
    },
    {
     "data": {
      "text/plain": [
       "5"
      ]
     },
     "execution_count": 5,
     "metadata": {},
     "output_type": "execute_result"
    }
   ],
   "source": [
    "def calDate():\n",
    "    date=input(\"enter a date(mm/dd/yyyy):\")\n",
    "    month,day,year=date.split(\"/\")\n",
    "    total=int(month)+int(day)+int(year)\n",
    "    while total >= 10:\n",
    "        total = sum(int(item) for item in str(total))\n",
    "    return total\n",
    "calDate()"
   ]
  },
  {
   "cell_type": "code",
   "execution_count": 17,
   "id": "3ced32a9",
   "metadata": {},
   "outputs": [
    {
     "name": "stdout",
     "output_type": "stream",
     "text": [
      "enter numbers separated by space:33 55 66 22 11\n",
      "enter the k:3\n",
      "第 3 大的數字是: 33\n",
      "enter the k:2\n",
      "第 2 大的數字是: 55\n",
      "enter the k:9\n",
      "ERROR!\n",
      "enter the k:0\n",
      "結束程式\n"
     ]
    }
   ],
   "source": [
    "def find():\n",
    "    inputStr=input(\"enter numbers separated by space:\")\n",
    "    numbers=inputStr.split(\" \")\n",
    "    k=int(input(\"enter the k:\"))\n",
    "    # 將數字排序\n",
    "    sorted_numbers = sorted(numbers, reverse=True)\n",
    "    \n",
    "    while k != 0:\n",
    "        if k > len(sorted_numbers):\n",
    "            print(\"ERROR!\")\n",
    "            k=int(input(\"enter the k:\"))\n",
    "        else:\n",
    "            kth_largest = sorted_numbers[k - 1]\n",
    "            print(f\"第 {k} 大的數字是: {kth_largest}\")\n",
    "            k=int(input(\"enter the k:\"))\n",
    "    else:\n",
    "        print(\"結束程式\")\n",
    "find()"
   ]
  },
  {
   "cell_type": "code",
   "execution_count": 20,
   "id": "3407e50c",
   "metadata": {},
   "outputs": [
    {
     "name": "stdout",
     "output_type": "stream",
     "text": [
      "enter the salary of one month:50000\n",
      "how many years have you worked?5\n",
      "salary of 5 year: 3000000\n",
      "salary of one day: 1643.835616438356\n"
     ]
    }
   ],
   "source": [
    "def salary():\n",
    "    salaryM = eval(input(\"enter the salary of one month:\"))\n",
    "    year = eval(input(\"how many years have you worked?\"))\n",
    "    salaryY = salaryM*12*year\n",
    "    salaryD = salaryY/(year*365)\n",
    "    print(\"salary of\",year,\"year:\",salaryY)\n",
    "    print(\"salary of one day:\",salaryD)\n",
    "salary()"
   ]
  },
  {
   "cell_type": "code",
   "execution_count": null,
   "id": "53fd5611",
   "metadata": {},
   "outputs": [],
   "source": [
    "def table():\n",
    "    for i in range(1, 10):\n",
    "    for j in range(1, 10):\n",
    "        result = i * j\n",
    "        print(f\"{i} x {j} = {result}\")\n",
    "    "
   ]
  }
 ],
 "metadata": {
  "kernelspec": {
   "display_name": "Python 3 (ipykernel)",
   "language": "python",
   "name": "python3"
  },
  "language_info": {
   "codemirror_mode": {
    "name": "ipython",
    "version": 3
   },
   "file_extension": ".py",
   "mimetype": "text/x-python",
   "name": "python",
   "nbconvert_exporter": "python",
   "pygments_lexer": "ipython3",
   "version": "3.9.6"
  }
 },
 "nbformat": 4,
 "nbformat_minor": 5
}
