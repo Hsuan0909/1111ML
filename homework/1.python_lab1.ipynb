{
 "cells": [
  {
   "cell_type": "code",
   "execution_count": 2,
   "id": "ff2f8cf6",
   "metadata": {},
   "outputs": [
    {
     "name": "stdout",
     "output_type": "stream",
     "text": [
      "Hello World!\n"
     ]
    }
   ],
   "source": [
    "print(\"Hello World!\")"
   ]
  },
  {
   "cell_type": "code",
   "execution_count": 3,
   "id": "41dcf40d",
   "metadata": {},
   "outputs": [
    {
     "name": "stdout",
     "output_type": "stream",
     "text": [
      "-1\n"
     ]
    }
   ],
   "source": [
    "print(2-3)"
   ]
  },
  {
   "cell_type": "code",
   "execution_count": 6,
   "id": "3e9775ca",
   "metadata": {},
   "outputs": [
    {
     "name": "stdout",
     "output_type": "stream",
     "text": [
      "2-3 = -1\n"
     ]
    }
   ],
   "source": [
    "print(\"2-3 =\",2-3)"
   ]
  },
  {
   "cell_type": "code",
   "execution_count": 7,
   "id": "cf48c602",
   "metadata": {},
   "outputs": [],
   "source": [
    "x,y,z=1,2,4"
   ]
  },
  {
   "cell_type": "code",
   "execution_count": 8,
   "id": "6852d79f",
   "metadata": {},
   "outputs": [
    {
     "name": "stdout",
     "output_type": "stream",
     "text": [
      "1 , 2 , 4\n"
     ]
    }
   ],
   "source": [
    "print(x,\",\",y,\",\",z)"
   ]
  },
  {
   "cell_type": "code",
   "execution_count": 11,
   "id": "e472a602",
   "metadata": {},
   "outputs": [
    {
     "name": "stdout",
     "output_type": "stream",
     "text": [
      "0\n",
      "1\n",
      "2\n",
      "3\n",
      "4\n"
     ]
    }
   ],
   "source": [
    "for i in range(0,5):\n",
    "    print(i)"
   ]
  },
  {
   "cell_type": "code",
   "execution_count": 13,
   "id": "9d54a4e1",
   "metadata": {},
   "outputs": [],
   "source": [
    "def greet(person):\n",
    "    print(\"Hello\",person)\n",
    "    print(\"How are you?\")"
   ]
  },
  {
   "cell_type": "code",
   "execution_count": 14,
   "id": "b19b5f37",
   "metadata": {},
   "outputs": [
    {
     "name": "stdout",
     "output_type": "stream",
     "text": [
      "Hello Amy\n",
      "How are you?\n"
     ]
    }
   ],
   "source": [
    "greet(\"Amy\")"
   ]
  },
  {
   "cell_type": "code",
   "execution_count": 15,
   "id": "2fe887f1",
   "metadata": {},
   "outputs": [
    {
     "name": "stdout",
     "output_type": "stream",
     "text": [
      "Hello 1\n",
      "How are you?\n",
      "Hello 2\n",
      "How are you?\n",
      "Hello 3\n",
      "How are you?\n"
     ]
    }
   ],
   "source": [
    "for i in range(1,4):\n",
    "    greet(i)"
   ]
  },
  {
   "cell_type": "code",
   "execution_count": 16,
   "id": "f3c11d80",
   "metadata": {},
   "outputs": [
    {
     "data": {
      "text/plain": [
       "<function __main__.greet(person)>"
      ]
     },
     "execution_count": 16,
     "metadata": {},
     "output_type": "execute_result"
    }
   ],
   "source": [
    "greet"
   ]
  },
  {
   "cell_type": "code",
   "execution_count": 3,
   "id": "8412554f",
   "metadata": {},
   "outputs": [
    {
     "name": "stdout",
     "output_type": "stream",
     "text": [
      "this progeram illustrates a chastic function.\n",
      "enter a number between 0 and 10.9\n",
      "i= 0 ,x= 0.3509999999999999\n",
      "i= 1 ,x= 0.8884160999999997\n",
      "i= 2 ,x= 0.3866184397170819\n",
      "i= 3 ,x= 0.9248640249724629\n",
      "i= 4 ,x= 0.27101318510837386\n",
      "i= 5 ,x= 0.7705036505625737\n",
      "i= 6 ,x= 0.6896283226260519\n",
      "i= 7 ,x= 0.8347602871063168\n",
      "i= 8 ,x= 0.5379486456883358\n",
      "i= 9 ,x= 0.9693836111326424\n"
     ]
    }
   ],
   "source": [
    "def chaos():\n",
    "    print(\"this progeram illustrates a chastic function.\")\n",
    "    x=eval(input(\"enter a number between 0 and 1\"))\n",
    "    for i in range(10):\n",
    "        x=3.9*x*(1-x)\n",
    "        print(\"i=\",i,\",x=\",x)\n",
    "chaos()"
   ]
  },
  {
   "cell_type": "code",
   "execution_count": 4,
   "id": "14bab939",
   "metadata": {},
   "outputs": [
    {
     "name": "stdout",
     "output_type": "stream",
     "text": [
      "What is the Celsius temperature?36\n",
      "The temperature is 96.8 degree Fahrenheit.\n"
     ]
    }
   ],
   "source": [
    "def convert():\n",
    "    celsius=eval(input(\"What is the Celsius temperature?\"))\n",
    "    fahrenheit=9/5*celsius+32\n",
    "    print(\"The temperature is\", fahrenheit,\"degree Fahrenheit.\")\n",
    "convert()"
   ]
  },
  {
   "cell_type": "code",
   "execution_count": 8,
   "id": "bc515183",
   "metadata": {},
   "outputs": [
    {
     "name": "stdout",
     "output_type": "stream",
     "text": [
      "the program computes the average of two exam scores.\n",
      "enter two scores seprated bo a comma:60,90\n",
      "the average is 75.0\n"
     ]
    }
   ],
   "source": [
    "def avg2():\n",
    "    print(\"the program computes the average of two exam scores.\")\n",
    "    score1,score2=eval(input(\"enter two scores seprated bo a comma:\"))\n",
    "    average=(score1+score2)/2\n",
    "    print(\"the average is\",average)\n",
    "avg2()"
   ]
  },
  {
   "cell_type": "code",
   "execution_count": 11,
   "id": "86e8d918",
   "metadata": {},
   "outputs": [
    {
     "name": "stdout",
     "output_type": "stream",
     "text": [
      "the program calculates the future value of a year investment.\n",
      "enter the initial principal:2000\n",
      "enter the annaul interest rate:0.5\n",
      "The value in 10 year is: 115330.078125\n"
     ]
    }
   ],
   "source": [
    "def futval1():\n",
    "    print(\"the program calculates the future value of a year investment.\")\n",
    "    principal=eval(input(\"enter the initial principal:\"))\n",
    "    apr=eval(input(\"enter the annaul interest rate:\"))\n",
    "    for i in range(10):\n",
    "        principal=principal*(1+apr)\n",
    "    print(\"The value in 10 year is:\",principal)\n",
    "futval1()"
   ]
  },
  {
   "cell_type": "code",
   "execution_count": 13,
   "id": "51cc562d",
   "metadata": {},
   "outputs": [
    {
     "name": "stdout",
     "output_type": "stream",
     "text": [
      "Change Counter\n",
      "Please enter the count of each coin types\n",
      "Quarters:10\n",
      "dimes:10\n",
      "nickles:10\n",
      "pennies:10\n",
      "The total value of your change is 4.1\n"
     ]
    }
   ],
   "source": [
    "def change():\n",
    "    print(\"Change Counter\")\n",
    "    print(\"Please enter the count of each coin types\")\n",
    "    quarters=eval(input(\"Quarters:\"))\n",
    "    dimes=eval(input(\"dimes:\"))\n",
    "    nickles=eval(input(\"nickles:\"))\n",
    "    pennies=eval(input(\"pennies:\"))\n",
    "    total=quarters*0.25+dimes*0.1+nickles*0.05+pennies*0.01\n",
    "    print(\"The total value of your change is\", total)\n",
    "change()"
   ]
  },
  {
   "cell_type": "code",
   "execution_count": 14,
   "id": "9dabd16f",
   "metadata": {},
   "outputs": [
    {
     "name": "stdout",
     "output_type": "stream",
     "text": [
      "The program finds the real solution to a quadratic\n",
      "\n",
      "Please enter the coefficients(a,b,c):3,10,3\n",
      "\n",
      "The solutios are: -0.3333333333333333 -0.3333333333333333\n"
     ]
    }
   ],
   "source": [
    "import math\n",
    "def quadratic():\n",
    "    print(\"The program finds the real solution to a quadratic\")\n",
    "    print()\n",
    "    a,b,c=eval(input(\"Please enter the coefficients(a,b,c):\"))\n",
    "    discRoot=math.sqrt(b*b-4*a*c)\n",
    "    root1=(-b+discRoot)/(2*a)\n",
    "    root2=(-b+discRoot)/(2*a)\n",
    "    print()\n",
    "    print(\"The solutios are:\", root1, root2)\n",
    "quadratic()"
   ]
  },
  {
   "cell_type": "code",
   "execution_count": 16,
   "id": "b945ecdc",
   "metadata": {},
   "outputs": [
    {
     "name": "stdout",
     "output_type": "stream",
     "text": [
      "Please fact=enter a whole number:5\n",
      "The factoral of 5 is 5\n",
      "The factoral of 5 is 20\n",
      "The factoral of 5 is 60\n",
      "The factoral of 5 is 120\n"
     ]
    }
   ],
   "source": [
    "def factorial():\n",
    "    n=eval(input(\"Please fact=enter a whole number:\"))\n",
    "    fact=1\n",
    "    for factor in range(n,1,-1):\n",
    "        fact=fact*factor\n",
    "        print(\"The factoral of\",n, \"is\",fact)\n",
    "factorial()"
   ]
  },
  {
   "cell_type": "code",
   "execution_count": 18,
   "id": "b3d2fa90",
   "metadata": {},
   "outputs": [
    {
     "name": "stdout",
     "output_type": "stream",
     "text": [
      "This program generates computer usernames.\n",
      "\n",
      "Please enter your first name(all lowercase):yihsaun\n",
      "Please enter your last name(all lowercase):hung\n",
      "your name= yhung\n"
     ]
    }
   ],
   "source": [
    "def username():\n",
    "    print(\"This program generates computer usernames.\\n\")\n",
    "    first =input(\"Please enter your first name(all lowercase):\")\n",
    "    last=input(\"Please enter your last name(all lowercase):\")\n",
    "    username=first[0]+last[:10]\n",
    "    print(\"your name=\",username)\n",
    "username()"
   ]
  },
  {
   "cell_type": "code",
   "execution_count": 19,
   "id": "ef5d19ee",
   "metadata": {},
   "outputs": [
    {
     "name": "stdout",
     "output_type": "stream",
     "text": [
      "Enter a month number(1-12):7\n",
      "The month abbreviation is Jul.\n"
     ]
    }
   ],
   "source": [
    "def month():\n",
    "    months=\"JanFebMarAprMayJunJulAugSepOctNovDec\"\n",
    "    n=eval(input(\"Enter a month number(1-12):\"))\n",
    "    pos=(n-1)*3\n",
    "    monthAbbrev=months[pos:pos+3]\n",
    "    print(\"The month abbreviation is\", monthAbbrev+\".\")\n",
    "month()"
   ]
  },
  {
   "cell_type": "code",
   "execution_count": 21,
   "id": "1b3bb42c",
   "metadata": {},
   "outputs": [
    {
     "name": "stdout",
     "output_type": "stream",
     "text": [
      "The program converts a textural message into a sequence of numbers representing the Unicode encoding of the message.\n",
      "\n",
      "Please enter the message to encode:HELLOWORLD\n",
      "\n",
      " Here are the Unicode codes:\n",
      "72,69,76,76,79,87,79,82,76,68,\n"
     ]
    }
   ],
   "source": [
    "def text2number():\n",
    "    print(\"The program converts a textural message into a sequence of numbers representing the Unicode encoding of the message.\\n\")\n",
    "    message = input(\"Please enter the message to encode:\")\n",
    "    print(\"\\n Here are the Unicode codes:\")\n",
    "    for chat in messagede:\n",
    "        print(ord(chat), end=\",\")\n",
    "    print()\n",
    "text2number()"
   ]
  },
  {
   "cell_type": "code",
   "execution_count": 24,
   "id": "0ac9241f",
   "metadata": {},
   "outputs": [
    {
     "name": "stdout",
     "output_type": "stream",
     "text": [
      "The program converts a sequence of Unicode numbers into the string of text that it represents.\n",
      "\n",
      "Please enter the Unicode-coded message:72,69,76,76,79,87,79,82,76,68\n",
      "\n",
      "The decode message is: HELLOWORLD\n"
     ]
    }
   ],
   "source": [
    "def number2text():\n",
    "    print(\"The program converts a sequence of Unicode numbers into the string of text that it represents.\\n\")\n",
    "    inString = input(\"Please enter the Unicode-coded message:\")\n",
    "    message=\"\"\n",
    "    for numStr in inString.split(\",\"):\n",
    "        codeNum=eval(numStr)\n",
    "        message=message+chr(codeNum)\n",
    "    print(\"\\nThe decode message is:\",message)\n",
    "number2text()"
   ]
  },
  {
   "cell_type": "code",
   "execution_count": 26,
   "id": "559e5ac6",
   "metadata": {},
   "outputs": [
    {
     "name": "stdout",
     "output_type": "stream",
     "text": [
      "enter a date(mm/dd/yyyy):09/09/1997\n",
      "The converted date is September 09, 1997\n"
     ]
    }
   ],
   "source": [
    "def dateconvert():\n",
    "    dateStr=input(\"enter a date(mm/dd/yyyy):\")\n",
    "    monthStr,dayStr,yearStr=dateStr.split(\"/\")\n",
    "    months=[\"January\", \"February\", \"March\", \"April\", \"May\", \"June\", \"July\", \"August\", \"September\", \"October\", \"November\", \"December\"]\n",
    "    monthStr=months[int(monthStr)-1]\n",
    "    print(\"The converted date is\", monthStr, dayStr+\",\",yearStr)\n",
    "dateconvert()"
   ]
  },
  {
   "cell_type": "code",
   "execution_count": 28,
   "id": "3541bb88",
   "metadata": {},
   "outputs": [
    {
     "name": "stdout",
     "output_type": "stream",
     "text": [
      "Enter filename:01_hello_python.ipynb\n",
      "{\n",
      " \"cells\": [\n",
      "  {\n",
      "   \"cell_type\": \"code\",\n",
      "   \"execution_count\": 2,\n",
      "   \"id\": \"8527eabd-a1c9-4810-a4a5-634c0902234b\",\n",
      "   \"metadata\": {},\n",
      "   \"outputs\": [\n",
      "    {\n",
      "     \"data\": {\n",
      "      \"text/plain\": [\n",
      "       \"1\"\n",
      "      ]\n",
      "     },\n",
      "     \"execution_count\": 2,\n",
      "     \"metadata\": {},\n",
      "     \"output_type\": \"execute_result\"\n",
      "    }\n",
      "   ],\n",
      "   \"source\": [\n",
      "    \"a=0\\n\",\n",
      "    \"b=1\\n\",\n",
      "    \"a+b\"\n",
      "   ]\n",
      "  },\n",
      "  {\n",
      "   \"cell_type\": \"code\",\n",
      "   \"execution_count\": 3,\n",
      "   \"id\": \"05844332-f417-4051-bc78-346f592e8fa0\",\n",
      "   \"metadata\": {},\n",
      "   \"outputs\": [\n",
      "    {\n",
      "     \"ename\": \"SyntaxError\",\n",
      "     \"evalue\": \"invalid syntax (3204612770.py, line 1)\",\n",
      "     \"output_type\": \"error\",\n",
      "     \"traceback\": [\n",
      "      \"\\u001b[0;36m  Cell \\u001b[0;32mIn[3], line 1\\u001b[0;36m\\u001b[0m\\n\\u001b[0;31m    hello world!\\u001b[0m\\n\\u001b[0m          ^\\u001b[0m\\n\\u001b[0;31mSyntaxError\\u001b[0m\\u001b[0;31m:\\u001b[0m invalid syntax\\n\"\n",
      "     ]\n",
      "    }\n",
      "   ],\n",
      "   \"source\": [\n",
      "    \"hello world!\"\n",
      "   ]\n",
      "  },\n",
      "  {\n",
      "   \"cell_type\": \"code\",\n",
      "   \"execution_count\": null,\n",
      "   \"id\": \"4e3c58ba-9313-406b-9817-67693e2fb2e0\",\n",
      "   \"metadata\": {},\n",
      "   \"outputs\": [],\n",
      "   \"source\": []\n",
      "  }\n",
      " ],\n",
      " \"metadata\": {\n",
      "  \"kernelspec\": {\n",
      "   \"display_name\": \"Python 3 (ipykernel)\",\n",
      "   \"language\": \"python\",\n",
      "   \"name\": \"python3\"\n",
      "  },\n",
      "  \"language_info\": {\n",
      "   \"codemirror_mode\": {\n",
      "    \"name\": \"ipython\",\n",
      "    \"version\": 3\n",
      "   },\n",
      "   \"file_extension\": \".py\",\n",
      "   \"mimetype\": \"text/x-python\",\n",
      "   \"name\": \"python\",\n",
      "   \"nbconvert_exporter\": \"python\",\n",
      "   \"pygments_lexer\": \"ipython3\",\n",
      "   \"version\": \"3.9.6\"\n",
      "  }\n",
      " },\n",
      " \"nbformat\": 4,\n",
      " \"nbformat_minor\": 5\n",
      "}\n",
      "\n"
     ]
    }
   ],
   "source": [
    "def printfile():\n",
    "    fname=input(\"Enter filename:\")\n",
    "    infile=open(fname,\"r\")\n",
    "    data = infile.read()\n",
    "    print(data)\n",
    "    infile.close()\n",
    "printfile()"
   ]
  },
  {
   "cell_type": "code",
   "execution_count": null,
   "id": "d3a9b88c",
   "metadata": {},
   "outputs": [],
   "source": []
  },
  {
   "cell_type": "code",
   "execution_count": null,
   "id": "fee7b280",
   "metadata": {},
   "outputs": [],
   "source": []
  }
 ],
 "metadata": {
  "kernelspec": {
   "display_name": "Python 3 (ipykernel)",
   "language": "python",
   "name": "python3"
  },
  "language_info": {
   "codemirror_mode": {
    "name": "ipython",
    "version": 3
   },
   "file_extension": ".py",
   "mimetype": "text/x-python",
   "name": "python",
   "nbconvert_exporter": "python",
   "pygments_lexer": "ipython3",
   "version": "3.9.6"
  }
 },
 "nbformat": 4,
 "nbformat_minor": 5
}
